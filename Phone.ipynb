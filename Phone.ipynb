{
  "nbformat": 4,
  "nbformat_minor": 0,
  "metadata": {
    "colab": {
      "provenance": [],
      "authorship_tag": "ABX9TyNwVZKuyataj0lhFMIr6ANs",
      "include_colab_link": true
    },
    "kernelspec": {
      "name": "python3",
      "display_name": "Python 3"
    },
    "language_info": {
      "name": "python"
    }
  },
  "cells": [
    {
      "cell_type": "markdown",
      "metadata": {
        "id": "view-in-github",
        "colab_type": "text"
      },
      "source": [
        "<a href=\"https://colab.research.google.com/github/Anushree-5-prog/NM/blob/main/Phone.ipynb\" target=\"_parent\"><img src=\"https://colab.research.google.com/assets/colab-badge.svg\" alt=\"Open In Colab\"/></a>"
      ]
    },
    {
      "cell_type": "code",
      "source": [
        "# Install dependencies if not already installed\n",
        "!pip install pandas scikit-learn\n",
        "\n",
        "# Import necessary libraries\n",
        "import pandas as pd\n",
        "import numpy as np\n",
        "from sklearn.model_selection import train_test_split\n",
        "from sklearn.preprocessing import LabelEncoder, StandardScaler\n",
        "from sklearn.ensemble import RandomForestClassifier\n",
        "from sklearn.metrics import accuracy_score\n",
        "\n",
        "# Step 1: Create a dataset\n",
        "data = {\n",
        "    \"Brand\": [\"Samsung\", \"Apple\", \"Xiaomi\", \"OnePlus\", \"Samsung\", \"Apple\", \"Xiaomi\", \"OnePlus\", \"Samsung\", \"Apple\"],\n",
        "    \"RAM_GB\": [8, 6, 8, 12, 4, 4, 6, 8, 12, 6],\n",
        "    \"Storage_GB\": [128, 256, 128, 256, 64, 128, 64, 128, 256, 512],\n",
        "    \"Battery_mAh\": [4500, 3200, 5000, 4800, 4000, 3000, 4500, 4700, 5000, 3500],\n",
        "    \"Camera_MP\": [108, 12, 64, 50, 48, 12, 48, 64, 108, 12],\n",
        "    \"Price_USD\": [900, 1200, 500, 700, 400, 1000, 300, 650, 1100, 1300]\n",
        "}\n",
        "\n",
        "df = pd.DataFrame(data)\n",
        "print(\"Dataset Preview:\")\n",
        "print(df.head())\n",
        "\n",
        "# Step 2: Preprocess the Data\n",
        "label_encoder = LabelEncoder()\n",
        "df[\"Brand\"] = label_encoder.fit_transform(df[\"Brand\"])  # Convert brand names to numbers\n",
        "\n",
        "X = df.drop(\"Brand\", axis=1)  # Features\n",
        "y = df[\"Brand\"]  # Target variable\n",
        "\n",
        "scaler = StandardScaler()\n",
        "X_scaled = scaler.fit_transform(X)  # Scale the features for better performance\n",
        "\n",
        "X_train, X_test, y_train, y_test = train_test_split(X_scaled, y, test_size=0.2, random_state=42)\n",
        "\n",
        "# Step 3: Train the Model\n",
        "model = RandomForestClassifier(n_estimators=100, random_state=42)\n",
        "model.fit(X_train, y_train)\n",
        "\n",
        "# Step 4: Evaluate the Model\n",
        "y_pred = model.predict(X_test)\n",
        "accuracy = accuracy_score(y_test, y_pred)\n",
        "print(f\"Model Accuracy: {accuracy * 100:.2f}%\")\n",
        "\n",
        "# Step 5: Predict a New Phone Brand\n",
        "new_phone = np.array([[8, 128, 4500, 64, 700]])  # Example input\n",
        "new_phone_scaled = scaler.transform(new_phone)\n",
        "predicted_brand = model.predict(new_phone_scaled)\n",
        "predicted_brand_name = label_encoder.inverse_transform(predicted_brand)\n",
        "\n",
        "print(f\"Predicted Brand for given specs: {predicted_brand_name[0]}\")"
      ],
      "metadata": {
        "colab": {
          "base_uri": "https://localhost:8080/"
        },
        "id": "E9XCmipLSf4i",
        "outputId": "7f50db1b-d53e-4b46-b156-1f0bdcfc7746"
      },
      "execution_count": null,
      "outputs": [
        {
          "output_type": "stream",
          "name": "stdout",
          "text": [
            "Requirement already satisfied: pandas in /usr/local/lib/python3.11/dist-packages (2.2.2)\n",
            "Requirement already satisfied: scikit-learn in /usr/local/lib/python3.11/dist-packages (1.6.1)\n",
            "Requirement already satisfied: numpy>=1.23.2 in /usr/local/lib/python3.11/dist-packages (from pandas) (2.0.2)\n",
            "Requirement already satisfied: python-dateutil>=2.8.2 in /usr/local/lib/python3.11/dist-packages (from pandas) (2.8.2)\n",
            "Requirement already satisfied: pytz>=2020.1 in /usr/local/lib/python3.11/dist-packages (from pandas) (2025.1)\n",
            "Requirement already satisfied: tzdata>=2022.7 in /usr/local/lib/python3.11/dist-packages (from pandas) (2025.1)\n",
            "Requirement already satisfied: scipy>=1.6.0 in /usr/local/lib/python3.11/dist-packages (from scikit-learn) (1.14.1)\n",
            "Requirement already satisfied: joblib>=1.2.0 in /usr/local/lib/python3.11/dist-packages (from scikit-learn) (1.4.2)\n",
            "Requirement already satisfied: threadpoolctl>=3.1.0 in /usr/local/lib/python3.11/dist-packages (from scikit-learn) (3.6.0)\n",
            "Requirement already satisfied: six>=1.5 in /usr/local/lib/python3.11/dist-packages (from python-dateutil>=2.8.2->pandas) (1.17.0)\n",
            "Dataset Preview:\n",
            "     Brand  RAM_GB  Storage_GB  Battery_mAh  Camera_MP  Price_USD\n",
            "0  Samsung       8         128         4500        108        900\n",
            "1    Apple       6         256         3200         12       1200\n",
            "2   Xiaomi       8         128         5000         64        500\n",
            "3  OnePlus      12         256         4800         50        700\n",
            "4  Samsung       4          64         4000         48        400\n",
            "Model Accuracy: 50.00%\n",
            "Predicted Brand for given specs: OnePlus\n"
          ]
        },
        {
          "output_type": "stream",
          "name": "stderr",
          "text": [
            "/usr/local/lib/python3.11/dist-packages/sklearn/utils/validation.py:2739: UserWarning: X does not have valid feature names, but StandardScaler was fitted with feature names\n",
            "  warnings.warn(\n"
          ]
        }
      ]
    }
  ]
}